{
 "cells": [
  {
   "cell_type": "markdown",
   "id": "c06a2869-3cbb-4423-ba6f-2653a6d5e7cb",
   "metadata": {},
   "source": [
    "# Working with SQL\n",
    "- In XAMPP start Apache and MySQL\n",
    "- Hit a URL which is: localhost/phpmyadmin/\n",
    "- Create a new database\n",
    "- After this import the sql file in it.\n",
    "- Now its time for Jupyter "
   ]
  },
  {
   "cell_type": "code",
   "execution_count": 2,
   "id": "21757eb9-261f-4459-9c79-ab86d02d8997",
   "metadata": {},
   "outputs": [],
   "source": [
    "# !pip install sqlalchemy\n",
    "# !pip install mysql.connector\n",
    "import pandas as pd"
   ]
  },
  {
   "cell_type": "markdown",
   "id": "5befee61-b68c-4475-97a8-39f26e544db0",
   "metadata": {},
   "source": [
    "## Method 1:"
   ]
  },
  {
   "cell_type": "code",
   "execution_count": 21,
   "id": "311abe7a-4f22-4e86-86ed-c963963244c7",
   "metadata": {},
   "outputs": [],
   "source": [
    "import mysql.connector"
   ]
  },
  {
   "cell_type": "code",
   "execution_count": 22,
   "id": "4734d47c-0f60-4f52-afe6-eebca617dda1",
   "metadata": {},
   "outputs": [],
   "source": [
    "# Establish the connection\n",
    "conn = mysql.connector.connect(host='localhost', user='root', password='', database='world')"
   ]
  },
  {
   "cell_type": "code",
   "execution_count": 23,
   "id": "f238ab2d-befd-4116-94ef-1af10b610abf",
   "metadata": {},
   "outputs": [],
   "source": [
    "# Create a cursor object\n",
    "cursor = conn.cursor()"
   ]
  },
  {
   "cell_type": "code",
   "execution_count": 24,
   "id": "88f07fbb-94a1-468d-89f1-fbbe31adbfff",
   "metadata": {},
   "outputs": [],
   "source": [
    "# Execute the query\n",
    "cursor.execute(\"SELECT * FROM city\")"
   ]
  },
  {
   "cell_type": "code",
   "execution_count": 25,
   "id": "2e8e103a-0968-4cee-8133-071b817e3a94",
   "metadata": {},
   "outputs": [],
   "source": [
    "# Fetch all rows from the executed query\n",
    "rows = cursor.fetchall()"
   ]
  },
  {
   "cell_type": "code",
   "execution_count": 26,
   "id": "2f2d391a-d242-4e4f-b445-ab9f32323c71",
   "metadata": {},
   "outputs": [],
   "source": [
    "# Get column names from cursor\n",
    "columns = [column[0] for column in cursor.description]"
   ]
  },
  {
   "cell_type": "code",
   "execution_count": 27,
   "id": "e4aa0420-3c1c-43d1-856a-5b6b2db10536",
   "metadata": {},
   "outputs": [],
   "source": [
    "# Convert the result into a DataFrame\n",
    "df = pd.DataFrame(rows, columns=columns)"
   ]
  },
  {
   "cell_type": "code",
   "execution_count": 29,
   "id": "43ae7ce6-73bc-4e80-aec0-e11bb8aae7ee",
   "metadata": {},
   "outputs": [
    {
     "data": {
      "text/html": [
       "<div>\n",
       "<style scoped>\n",
       "    .dataframe tbody tr th:only-of-type {\n",
       "        vertical-align: middle;\n",
       "    }\n",
       "\n",
       "    .dataframe tbody tr th {\n",
       "        vertical-align: top;\n",
       "    }\n",
       "\n",
       "    .dataframe thead th {\n",
       "        text-align: right;\n",
       "    }\n",
       "</style>\n",
       "<table border=\"1\" class=\"dataframe\">\n",
       "  <thead>\n",
       "    <tr style=\"text-align: right;\">\n",
       "      <th></th>\n",
       "      <th>ID</th>\n",
       "      <th>Name</th>\n",
       "      <th>CountryCode</th>\n",
       "      <th>District</th>\n",
       "      <th>Population</th>\n",
       "    </tr>\n",
       "  </thead>\n",
       "  <tbody>\n",
       "    <tr>\n",
       "      <th>0</th>\n",
       "      <td>1</td>\n",
       "      <td>Kabul</td>\n",
       "      <td>AFG</td>\n",
       "      <td>Kabol</td>\n",
       "      <td>1780000</td>\n",
       "    </tr>\n",
       "    <tr>\n",
       "      <th>1</th>\n",
       "      <td>2</td>\n",
       "      <td>Qandahar</td>\n",
       "      <td>AFG</td>\n",
       "      <td>Qandahar</td>\n",
       "      <td>237500</td>\n",
       "    </tr>\n",
       "    <tr>\n",
       "      <th>2</th>\n",
       "      <td>3</td>\n",
       "      <td>Herat</td>\n",
       "      <td>AFG</td>\n",
       "      <td>Herat</td>\n",
       "      <td>186800</td>\n",
       "    </tr>\n",
       "    <tr>\n",
       "      <th>3</th>\n",
       "      <td>4</td>\n",
       "      <td>Mazar-e-Sharif</td>\n",
       "      <td>AFG</td>\n",
       "      <td>Balkh</td>\n",
       "      <td>127800</td>\n",
       "    </tr>\n",
       "    <tr>\n",
       "      <th>4</th>\n",
       "      <td>5</td>\n",
       "      <td>Amsterdam</td>\n",
       "      <td>NLD</td>\n",
       "      <td>Noord-Holland</td>\n",
       "      <td>731200</td>\n",
       "    </tr>\n",
       "    <tr>\n",
       "      <th>...</th>\n",
       "      <td>...</td>\n",
       "      <td>...</td>\n",
       "      <td>...</td>\n",
       "      <td>...</td>\n",
       "      <td>...</td>\n",
       "    </tr>\n",
       "    <tr>\n",
       "      <th>4074</th>\n",
       "      <td>4075</td>\n",
       "      <td>Khan Yunis</td>\n",
       "      <td>PSE</td>\n",
       "      <td>Khan Yunis</td>\n",
       "      <td>123175</td>\n",
       "    </tr>\n",
       "    <tr>\n",
       "      <th>4075</th>\n",
       "      <td>4076</td>\n",
       "      <td>Hebron</td>\n",
       "      <td>PSE</td>\n",
       "      <td>Hebron</td>\n",
       "      <td>119401</td>\n",
       "    </tr>\n",
       "    <tr>\n",
       "      <th>4076</th>\n",
       "      <td>4077</td>\n",
       "      <td>Jabaliya</td>\n",
       "      <td>PSE</td>\n",
       "      <td>North Gaza</td>\n",
       "      <td>113901</td>\n",
       "    </tr>\n",
       "    <tr>\n",
       "      <th>4077</th>\n",
       "      <td>4078</td>\n",
       "      <td>Nablus</td>\n",
       "      <td>PSE</td>\n",
       "      <td>Nablus</td>\n",
       "      <td>100231</td>\n",
       "    </tr>\n",
       "    <tr>\n",
       "      <th>4078</th>\n",
       "      <td>4079</td>\n",
       "      <td>Rafah</td>\n",
       "      <td>PSE</td>\n",
       "      <td>Rafah</td>\n",
       "      <td>92020</td>\n",
       "    </tr>\n",
       "  </tbody>\n",
       "</table>\n",
       "<p>4079 rows × 5 columns</p>\n",
       "</div>"
      ],
      "text/plain": [
       "        ID            Name CountryCode       District  Population\n",
       "0        1           Kabul         AFG          Kabol     1780000\n",
       "1        2        Qandahar         AFG       Qandahar      237500\n",
       "2        3           Herat         AFG          Herat      186800\n",
       "3        4  Mazar-e-Sharif         AFG          Balkh      127800\n",
       "4        5       Amsterdam         NLD  Noord-Holland      731200\n",
       "...    ...             ...         ...            ...         ...\n",
       "4074  4075      Khan Yunis         PSE     Khan Yunis      123175\n",
       "4075  4076          Hebron         PSE         Hebron      119401\n",
       "4076  4077        Jabaliya         PSE     North Gaza      113901\n",
       "4077  4078          Nablus         PSE         Nablus      100231\n",
       "4078  4079           Rafah         PSE          Rafah       92020\n",
       "\n",
       "[4079 rows x 5 columns]"
      ]
     },
     "execution_count": 29,
     "metadata": {},
     "output_type": "execute_result"
    }
   ],
   "source": [
    "# Display the DataFrame (optional)\n",
    "df"
   ]
  },
  {
   "cell_type": "code",
   "execution_count": 30,
   "id": "72528d1b-dbd9-454b-bcbf-23e5bb6505e2",
   "metadata": {},
   "outputs": [],
   "source": [
    "# Close the cursor and connection\n",
    "cursor.close()\n",
    "conn.close()"
   ]
  },
  {
   "cell_type": "markdown",
   "id": "8eaaf441-858c-4add-9c50-fdc48e8d999c",
   "metadata": {},
   "source": [
    "## Method 2: "
   ]
  },
  {
   "cell_type": "code",
   "execution_count": 16,
   "id": "90af3b68-2634-4db9-a577-080534f67179",
   "metadata": {},
   "outputs": [],
   "source": [
    "from sqlalchemy import create_engine"
   ]
  },
  {
   "cell_type": "code",
   "execution_count": 18,
   "id": "17e0d9d4-da17-45a7-b506-705ee1d02c75",
   "metadata": {},
   "outputs": [],
   "source": [
    "# Create an SQLAlchemy engine\n",
    "engine = create_engine('mysql+pymysql://root:@localhost/world')"
   ]
  },
  {
   "cell_type": "code",
   "execution_count": 19,
   "id": "638bc495-c1ef-4b34-baae-ab0b2c9fd07b",
   "metadata": {},
   "outputs": [],
   "source": [
    "# Use pandas to execute the SQL query\n",
    "df = pd.read_sql_query(\"SELECT * FROM city\", engine)"
   ]
  },
  {
   "cell_type": "code",
   "execution_count": 20,
   "id": "d53b962d-186a-4270-ae7a-387e77b08cc0",
   "metadata": {},
   "outputs": [
    {
     "data": {
      "text/html": [
       "<div>\n",
       "<style scoped>\n",
       "    .dataframe tbody tr th:only-of-type {\n",
       "        vertical-align: middle;\n",
       "    }\n",
       "\n",
       "    .dataframe tbody tr th {\n",
       "        vertical-align: top;\n",
       "    }\n",
       "\n",
       "    .dataframe thead th {\n",
       "        text-align: right;\n",
       "    }\n",
       "</style>\n",
       "<table border=\"1\" class=\"dataframe\">\n",
       "  <thead>\n",
       "    <tr style=\"text-align: right;\">\n",
       "      <th></th>\n",
       "      <th>ID</th>\n",
       "      <th>Name</th>\n",
       "      <th>CountryCode</th>\n",
       "      <th>District</th>\n",
       "      <th>Population</th>\n",
       "    </tr>\n",
       "  </thead>\n",
       "  <tbody>\n",
       "    <tr>\n",
       "      <th>0</th>\n",
       "      <td>1</td>\n",
       "      <td>Kabul</td>\n",
       "      <td>AFG</td>\n",
       "      <td>Kabol</td>\n",
       "      <td>1780000</td>\n",
       "    </tr>\n",
       "    <tr>\n",
       "      <th>1</th>\n",
       "      <td>2</td>\n",
       "      <td>Qandahar</td>\n",
       "      <td>AFG</td>\n",
       "      <td>Qandahar</td>\n",
       "      <td>237500</td>\n",
       "    </tr>\n",
       "    <tr>\n",
       "      <th>2</th>\n",
       "      <td>3</td>\n",
       "      <td>Herat</td>\n",
       "      <td>AFG</td>\n",
       "      <td>Herat</td>\n",
       "      <td>186800</td>\n",
       "    </tr>\n",
       "    <tr>\n",
       "      <th>3</th>\n",
       "      <td>4</td>\n",
       "      <td>Mazar-e-Sharif</td>\n",
       "      <td>AFG</td>\n",
       "      <td>Balkh</td>\n",
       "      <td>127800</td>\n",
       "    </tr>\n",
       "    <tr>\n",
       "      <th>4</th>\n",
       "      <td>5</td>\n",
       "      <td>Amsterdam</td>\n",
       "      <td>NLD</td>\n",
       "      <td>Noord-Holland</td>\n",
       "      <td>731200</td>\n",
       "    </tr>\n",
       "    <tr>\n",
       "      <th>...</th>\n",
       "      <td>...</td>\n",
       "      <td>...</td>\n",
       "      <td>...</td>\n",
       "      <td>...</td>\n",
       "      <td>...</td>\n",
       "    </tr>\n",
       "    <tr>\n",
       "      <th>4074</th>\n",
       "      <td>4075</td>\n",
       "      <td>Khan Yunis</td>\n",
       "      <td>PSE</td>\n",
       "      <td>Khan Yunis</td>\n",
       "      <td>123175</td>\n",
       "    </tr>\n",
       "    <tr>\n",
       "      <th>4075</th>\n",
       "      <td>4076</td>\n",
       "      <td>Hebron</td>\n",
       "      <td>PSE</td>\n",
       "      <td>Hebron</td>\n",
       "      <td>119401</td>\n",
       "    </tr>\n",
       "    <tr>\n",
       "      <th>4076</th>\n",
       "      <td>4077</td>\n",
       "      <td>Jabaliya</td>\n",
       "      <td>PSE</td>\n",
       "      <td>North Gaza</td>\n",
       "      <td>113901</td>\n",
       "    </tr>\n",
       "    <tr>\n",
       "      <th>4077</th>\n",
       "      <td>4078</td>\n",
       "      <td>Nablus</td>\n",
       "      <td>PSE</td>\n",
       "      <td>Nablus</td>\n",
       "      <td>100231</td>\n",
       "    </tr>\n",
       "    <tr>\n",
       "      <th>4078</th>\n",
       "      <td>4079</td>\n",
       "      <td>Rafah</td>\n",
       "      <td>PSE</td>\n",
       "      <td>Rafah</td>\n",
       "      <td>92020</td>\n",
       "    </tr>\n",
       "  </tbody>\n",
       "</table>\n",
       "<p>4079 rows × 5 columns</p>\n",
       "</div>"
      ],
      "text/plain": [
       "        ID            Name CountryCode       District  Population\n",
       "0        1           Kabul         AFG          Kabol     1780000\n",
       "1        2        Qandahar         AFG       Qandahar      237500\n",
       "2        3           Herat         AFG          Herat      186800\n",
       "3        4  Mazar-e-Sharif         AFG          Balkh      127800\n",
       "4        5       Amsterdam         NLD  Noord-Holland      731200\n",
       "...    ...             ...         ...            ...         ...\n",
       "4074  4075      Khan Yunis         PSE     Khan Yunis      123175\n",
       "4075  4076          Hebron         PSE         Hebron      119401\n",
       "4076  4077        Jabaliya         PSE     North Gaza      113901\n",
       "4077  4078          Nablus         PSE         Nablus      100231\n",
       "4078  4079           Rafah         PSE          Rafah       92020\n",
       "\n",
       "[4079 rows x 5 columns]"
      ]
     },
     "execution_count": 20,
     "metadata": {},
     "output_type": "execute_result"
    }
   ],
   "source": [
    "df"
   ]
  },
  {
   "cell_type": "code",
   "execution_count": null,
   "id": "7dab1736-81f8-42a4-a738-e696a8beda4b",
   "metadata": {},
   "outputs": [],
   "source": []
  }
 ],
 "metadata": {
  "kernelspec": {
   "display_name": "Python 3 (ipykernel)",
   "language": "python",
   "name": "python3"
  },
  "language_info": {
   "codemirror_mode": {
    "name": "ipython",
    "version": 3
   },
   "file_extension": ".py",
   "mimetype": "text/x-python",
   "name": "python",
   "nbconvert_exporter": "python",
   "pygments_lexer": "ipython3",
   "version": "3.12.4"
  },
  "widgets": {
   "application/vnd.jupyter.widget-state+json": {
    "state": {},
    "version_major": 2,
    "version_minor": 0
   }
  }
 },
 "nbformat": 4,
 "nbformat_minor": 5
}
